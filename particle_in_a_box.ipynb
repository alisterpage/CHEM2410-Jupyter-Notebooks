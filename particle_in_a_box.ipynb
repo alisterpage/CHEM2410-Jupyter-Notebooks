{
 "cells": [
  {
   "cell_type": "markdown",
   "id": "2998a9f3",
   "metadata": {},
   "source": [
    "## 1D Particle-In-A-Box"
   ]
  },
  {
   "cell_type": "markdown",
   "id": "7436857c",
   "metadata": {},
   "source": [
    "Use this jupyter notebook to examine the behaviour and properties of a 1D particle in a box. Run the next code cell to setup your environment. "
   ]
  },
  {
   "cell_type": "code",
   "execution_count": 1,
   "id": "c5024644",
   "metadata": {},
   "outputs": [],
   "source": [
    "import matplotlib as mpl\n",
    "import matplotlib.pylab as plt\n",
    "import numpy as np\n",
    "import ipywidgets as widgets\n",
    "from ipywidgets import interact\n",
    "import warnings\n",
    "warnings.filterwarnings('ignore')\n",
    "import sys\n",
    "%matplotlib inline"
   ]
  },
  {
   "cell_type": "markdown",
   "id": "b37bcf25",
   "metadata": {},
   "source": [
    "A   \"node'' in a wavefunction is a point where its value vanishes, i.e. $\\psi(x) = 0$. \n",
    "\n",
    "Use the widget below to examine how the wave function $\\psi_n(x)$ and the probability density $|\\psi_n^2(x)|$ of a particle in a 1 nm box change with the value of the quantum number $n$. \n",
    "\n",
    "1. What is _mathematical_ relationship between the particle-in-box's quantum number $n$, and the number of nodes? \n",
    "1. What is the relationship between $n$ and the wavefunction's wavelength, $\\lambda$? \n",
    "1. What is the relationship between $n$ and the wavefunction's average curvature? \n",
    "1. Based on your answer to the previous questions, would you expect the particle's energy to increase, or decrease, with $n$?"
   ]
  },
  {
   "cell_type": "code",
   "execution_count": 4,
   "id": "9607c364",
   "metadata": {},
   "outputs": [
    {
     "data": {
      "application/vnd.jupyter.widget-view+json": {
       "model_id": "b33db6c385f04fdf94960c69656a77d0",
       "version_major": 2,
       "version_minor": 0
      },
      "text/plain": [
       "interactive(children=(IntSlider(value=2, description='Max n value', max=10, min=1), Output()), _dom_classes=('…"
      ]
     },
     "metadata": {},
     "output_type": "display_data"
    },
    {
     "data": {
      "text/plain": [
       "<function __main__.plot_side_by_side(n=5)>"
      ]
     },
     "execution_count": 4,
     "metadata": {},
     "output_type": "execute_result"
    }
   ],
   "source": [
    "L = 1.0\n",
    "h = 6.62607015e-34  # Planck's constant (Joule second)\n",
    "me = 9.10938356e-31  # Electron mass (kg)\n",
    "Na = 6.02214076e23  # Avogadro's number (mol^-1)\n",
    "\n",
    "def En(n, L, m):\n",
    "    # L in nm → convert to meters properly\n",
    "    return (h**2 * n**2) / (8 * me * (L * 1e-9)**2)\n",
    "\n",
    "def psi(x, n, L):\n",
    "    # Particle in a box wavefunction, normalized\n",
    "    return np.sqrt(2.0/L) * np.sin(n * np.pi * x / L)\n",
    "\n",
    "\n",
    "def plot_side_by_side(n=5):\n",
    "    X3 = np.linspace(0.0, L, 900, endpoint=True)\n",
    "    energy = En(n, L, 1.0)\n",
    "    amp = energy * 0.6\n",
    "    Etop = energy * 3  # leave space above wave\n",
    "\n",
    "    fig, (ax1, ax2) = plt.subplots(1, 2, figsize=(12, 8), sharey=True)\n",
    "\n",
    "    # Wavefunction plot\n",
    "    ax1.set_title('$\\psi(x)$', fontsize=24)\n",
    "    ax1.set_xlabel(r'$x$ (nm)')\n",
    "    ax1.axis([-0.5, 1.5, 0.0, Etop])\n",
    "    ax1.hlines(energy, 0, L, color='black', linestyle='--', linewidth=1.5)\n",
    "    ax1.plot(X3, energy + amp * psi(X3, n, L), color=\"red\", linewidth=2.0)\n",
    "\n",
    "    # Probability density plot\n",
    "    ax2.set_title('$|\\psi^{2}(x)|$', fontsize=24)\n",
    "    ax2.set_xlabel(r'$x$ (nm)')\n",
    "    ax2.axis([-0.5, 1.5, 0.0, Etop])\n",
    "    ax2.hlines(energy, 0, L, color='black', linestyle='--', linewidth=1.5)\n",
    "    ax2.plot(X3, energy + amp * (psi(X3, n, L))**2, color=\"red\", linewidth=2.0)\n",
    "\n",
    "    # Shared formatting\n",
    "    for ax in [ax1, ax2]:\n",
    "        ax.vlines([0.0, L], 0.0, Etop, linewidth=1.5, color=\"blue\")\n",
    "        ax.hlines(0.0, 0.0, L, linewidth=1.5, color=\"blue\")\n",
    "        ax.axvspan(-1, 0, color='lightblue', alpha=0.5, zorder=0)\n",
    "        ax.axvspan(L, 5, color='lightblue', alpha=0.5, zorder=0)\n",
    "        ax.axes.get_yaxis().set_visible(False)\n",
    "\n",
    "    plt.tight_layout()\n",
    "    plt.show()\n",
    "\n",
    "\n",
    "interact(\n",
    "    plot_side_by_side,\n",
    "    n=widgets.IntSlider(value=2, min=1, max=10, step=1, description='Max n value')\n",
    ")"
   ]
  },
  {
   "cell_type": "markdown",
   "id": "0c283b40",
   "metadata": {},
   "source": [
    "The quantum mechanical behaviour of the particle-in-a-box is actually consistent with macroscopic \"classical\" behaviour. To see this, we will use the widget below to examine how the physically-measurable properties of the particle change with its mass $m$, and the size of the box $L$. \n",
    "\n",
    "Firstly calculate one of the quantised _transition energies_ of the particle - this is the energy difference between different energy levels, e.g. between $n = 1$ and $n = 2$ (pick any 2 states you like).\n",
    "1. How does the value of this transition energy change with the mass of the particle (use the slider bars)? \n",
    "1. How does the value of this transition energy change with the length of the box? \n",
    "1. Based on your answer to the previous questions, would you expect that the quantised energy levels of a macroscopic object, say, a tennis ball, could be measured experimentally?  \n",
    "\n",
    "We can also show that the quantised _motion_ of the particle is consistent with macroscopic \"classical\" behaviour. \n",
    "\n",
    "1. For small values of $L$ and $m$, where in the box will the particle most likely be found in the ground $n = 1$ state? \n",
    "1. How does your answer to the previous question change for other low-lying states, e.g. $n = 2$ and $n = 3$?\n",
    "1. As $m$ and $L$ increases, do you think the position of the particle remains quantised? \n",
    "1. Based on your answer to the previous questions, would you expect that the quantised position of a macroscopic object, say, a tennis ball, be any different from the usual ``classical\" position?\n",
    "\n",
    "\n",
    "\n"
   ]
  },
  {
   "cell_type": "code",
   "execution_count": 5,
   "id": "ff530adc",
   "metadata": {},
   "outputs": [
    {
     "data": {
      "application/vnd.jupyter.widget-view+json": {
       "model_id": "ca85635ec5294ef6b6501f9c85c4c5e8",
       "version_major": 2,
       "version_minor": 0
      },
      "text/plain": [
       "interactive(children=(FloatSlider(value=1.0, description='L (Å)', max=2.5, min=0.5), IntSlider(value=2, descri…"
      ]
     },
     "metadata": {},
     "output_type": "display_data"
    },
    {
     "data": {
      "text/plain": [
       "<function __main__.plot_side_by_side(L=1.0, nmax=5, m=1.0)>"
      ]
     },
     "execution_count": 5,
     "metadata": {},
     "output_type": "execute_result"
    }
   ],
   "source": [
    "\n",
    "\n",
    "h = 6.62607015e-34  # Planck's constant (Joule second)\n",
    "me = 9.10938356e-31  # Electron mass (kg)\n",
    "Na = 6.02214076e23  # Avogadro's number (mol^-1)\n",
    "\n",
    "def psi(x, n, L):\n",
    "    # Particle in a box wavefunction, normalized\n",
    "    return np.sqrt(2.0/L) * np.sin(n * np.pi * x / L)\n",
    "\n",
    "def En(n, L, m):\n",
    "    # L in nm, m in units of electron mass\n",
    "    return (h**2 * n**2) / (8 * m * me * (L * 1e-10)**2 )\n",
    "\n",
    "def plot_side_by_side(L=1.0, nmax=5, m=1.0):\n",
    "    X3 = np.linspace(0.0, L, 900, endpoint=True)\n",
    "    amp = (En(2, L, m) - En(1, L, m)) * 0.7\n",
    "    Etop = En(6, 1.0, 1.0) * 1.2  # Dynamically adjust plot height\n",
    "\n",
    "    fig, (ax1, ax2) = plt.subplots(1, 2, figsize=(12,8), sharey=True)\n",
    "\n",
    "    # --- Wavefunction plot (left) ---\n",
    "    ax1.spines['right'].set_color('none')\n",
    "    ax1.xaxis.tick_bottom()\n",
    "    ax1.spines['left'].set_color('none')\n",
    "    ax1.axes.get_yaxis().set_visible(False)\n",
    "    ax1.spines['top'].set_color('none')\n",
    "    ax1.axis([-1, 3, 0.0, Etop])\n",
    "    ax1.set_xlabel(r'$X$ (Angstroms)')\n",
    "    ax1.set_title('$\\psi(x)$\\n', fontsize=24)\n",
    "    ax1.set_ylim(0, Etop)\n",
    "\n",
    "    for n in range(1, nmax+1):\n",
    "        energy = En(n, L, m)\n",
    "        if energy < Etop:\n",
    "            ax1.hlines(energy, 0.0, L, linewidth=1.5, linestyle='--', color=\"black\")\n",
    "            ax1.plot(X3, energy + amp * np.sqrt(L / 2.0) * psi(X3, n, L), color=\"red\", linewidth=2.0)\n",
    "\n",
    "    ax1.margins(0.00)\n",
    "    ax1.vlines(0.0, 0.0, Etop, linewidth=1.5, color=\"blue\")\n",
    "    ax1.vlines(L, 0.0, Etop, linewidth=1.5, color=\"blue\")\n",
    "    ax1.hlines(0.0, 0.0, L, linewidth=1.5, color=\"blue\")\n",
    "\n",
    "    # --- Probability density plot (right) ---\n",
    "    ax2.spines['right'].set_color('none')\n",
    "    ax2.xaxis.tick_bottom()\n",
    "    ax2.spines['left'].set_color('none')\n",
    "    ax2.axes.get_yaxis().set_visible(False)\n",
    "    ax2.spines['top'].set_color('none')\n",
    "    ax2.axis([-1, 3, 0.0, Etop])\n",
    "    ax2.set_xlabel(r'$X$ (Angstroms)')\n",
    "    ax2.set_title('$|\\psi^{2}(x)|$\\n', fontsize=24)\n",
    "\n",
    "    for n in range(1, nmax+1):\n",
    "        energy = En(n, L, m)\n",
    "        if energy < Etop:\n",
    "            ax2.hlines(energy, 0.0, L, linewidth=1.5, linestyle='--', color=\"black\")\n",
    "            ax2.plot(X3, energy + amp * (np.sqrt(L / 2.0) * psi(X3, n, L))**2, color=\"red\", linewidth=2.0)\n",
    "            label = f\"$n = {n}$, $E_{{{n}}} = {energy * Na / 1000:.2f}\\ \\mathrm{{kJ/mol}}$, $\\lambda_{{{n}}} = {2 * L / n:.2f}\\ \\mathrm{{nm}}$\"\n",
    "            ax2.text(1.05 * L, energy, label, fontsize=12, color=\"black\")\n",
    "    ax2.margins(0.00)\n",
    "    ax2.vlines(0.0, 0.0, Etop, linewidth=1.5, color=\"blue\")\n",
    "    ax2.vlines(L, 0.0, Etop, linewidth=1.5, color=\"blue\")\n",
    "    ax2.hlines(0.0, 0.0, L, linewidth=1.5, color=\"blue\")\n",
    "    ax2.set_ylim(0, Etop)\n",
    "\n",
    "    # Shade regions outside [0, L] in blue\n",
    "    ax1.axvspan(-1, 0, color='lightblue', alpha=0.5, zorder=0)\n",
    "    ax1.axvspan(L, 5, color='lightblue', alpha=0.5, zorder=0)\n",
    "    ax2.axvspan(-1, 0, color='lightblue', alpha=0.5, zorder=0)\n",
    "    ax2.axvspan(L, 5, color='lightblue', alpha=0.5, zorder=0)\n",
    "\n",
    "    plt.tight_layout()\n",
    "    plt.show()\n",
    "\n",
    "interact(\n",
    "    plot_side_by_side,\n",
    "    L=widgets.FloatSlider(value=1.0, min=0.5, max=2.5, step=0.1, description='L (Å)'),\n",
    "    nmax=widgets.IntSlider(value=2, min=1, max=20, step=1, description='Max n value'),\n",
    "    m=widgets.FloatSlider(value=1.0, min=1.0, max=3.0, step=0.1, description='m (rel. mass)')\n",
    ")"
   ]
  },
  {
   "cell_type": "markdown",
   "id": "898370cf",
   "metadata": {},
   "source": []
  },
  {
   "cell_type": "code",
   "execution_count": 6,
   "id": "e856199e",
   "metadata": {},
   "outputs": [
    {
     "data": {
      "application/vnd.jupyter.widget-view+json": {
       "model_id": "c8512825a494480ca4b1dadd21cd91d7",
       "version_major": 2,
       "version_minor": 0
      },
      "text/plain": [
       "interactive(children=(IntSlider(value=1, description='n', max=5, min=1), IntSlider(value=2, description='m', m…"
      ]
     },
     "metadata": {},
     "output_type": "display_data"
    },
    {
     "data": {
      "text/plain": [
       "<function __main__.plot_psi2D_interactive(n=1, m=2)>"
      ]
     },
     "execution_count": 6,
     "metadata": {},
     "output_type": "execute_result"
    }
   ],
   "source": [
    "import numpy as np\n",
    "import ipywidgets as widgets\n",
    "from ipywidgets import interact\n",
    "import plotly.graph_objects as go\n",
    "\n",
    "def psi2D(x, y, n, m): \n",
    "    return 2.0 * np.sin(n * np.pi * x) * np.sin(m * np.pi * y)\n",
    "\n",
    "def plot_psi2D_interactive(n=1, m=2):\n",
    "    x = np.linspace(0, 1, 100)\n",
    "    y = np.linspace(0, 1, 100)\n",
    "    X, Y = np.meshgrid(x, y)\n",
    "    Z = psi2D(X, Y, n, m)\n",
    "\n",
    "    fig = go.Figure(data=[\n",
    "        go.Surface(\n",
    "        z=Z,\n",
    "        x=X,\n",
    "        y=Y,\n",
    "        colorscale='RdBu',\n",
    "        opacity=1.0,\n",
    "        contours = {\n",
    "            \"z\": {\n",
    "                \"show\": True,\n",
    "                \"usecolormap\": True,\n",
    "                \"highlight\": True,\n",
    "                \"project_z\": True\n",
    "            }\n",
    "        },\n",
    "        colorbar=dict(title=r'$\\Psi_{n,m}(x,y)$'),\n",
    "    )\n",
    "    ])\n",
    "\n",
    "    fig.update_layout(\n",
    "        title=f'3D Surface of $\\\\Psi_{{n={n},m={m}}}(x,y)$',\n",
    "        scene=dict(\n",
    "            xaxis_title=r'$x/L_x$',\n",
    "            yaxis_title=r'$y/L_y$',\n",
    "            zaxis_title=r'$\\Psi_{n,m}(x,y)$',\n",
    "            aspectratio=dict(x=1, y=1, z=0.5),  # Control proportions\n",
    "            camera=dict(eye=dict(x=1.2, y=1.2, z=0.6))  # Set viewing angle\n",
    "        ),\n",
    "        margin=dict(l=0, r=0, b=0, t=40),\n",
    "        height=600\n",
    "    )\n",
    "\n",
    "    fig.show()\n",
    "\n",
    "interact(\n",
    "    plot_psi2D_interactive,\n",
    "    n=widgets.IntSlider(value=1, min=1, max=5, step=1, description='n'),\n",
    "    m=widgets.IntSlider(value=2, min=1, max=5, step=1, description='m')\n",
    ")"
   ]
  },
  {
   "cell_type": "code",
   "execution_count": null,
   "id": "a7550a3e",
   "metadata": {},
   "outputs": [],
   "source": []
  }
 ],
 "metadata": {
  "kernelspec": {
   "display_name": "base",
   "language": "python",
   "name": "python3"
  },
  "language_info": {
   "codemirror_mode": {
    "name": "ipython",
    "version": 3
   },
   "file_extension": ".py",
   "mimetype": "text/x-python",
   "name": "python",
   "nbconvert_exporter": "python",
   "pygments_lexer": "ipython3",
   "version": "3.9.16"
  }
 },
 "nbformat": 4,
 "nbformat_minor": 5
}
