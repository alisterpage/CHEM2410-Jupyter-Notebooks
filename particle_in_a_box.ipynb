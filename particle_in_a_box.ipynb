{
  "cells": [
    {
      "cell_type": "markdown",
      "metadata": {
        "id": "view-in-github",
        "colab_type": "text"
      },
      "source": [
        "<a href=\"https://colab.research.google.com/github/alisterpage/CHEM2410-Jupyter-Notebooks/blob/main/particle_in_a_box.ipynb\" target=\"_parent\"><img src=\"https://colab.research.google.com/assets/colab-badge.svg\" alt=\"Open In Colab\"/></a>"
      ]
    },
    {
      "cell_type": "markdown",
      "id": "2998a9f3",
      "metadata": {
        "id": "2998a9f3"
      },
      "source": [
        "# Understanding a 1D Particle-In-A-Box"
      ]
    },
    {
      "cell_type": "markdown",
      "id": "7436857c",
      "metadata": {
        "id": "7436857c"
      },
      "source": [
        "Use this jupyter notebook to examine the behaviour and properties of a 1D particle in a box."
      ]
    },
    {
      "cell_type": "markdown",
      "id": "5zarYI66p_tE",
      "metadata": {
        "id": "5zarYI66p_tE"
      },
      "source": [
        "## Nodes, Quantum Numbers and Energies\n",
        "\n",
        "Run the cell below to generate the 1D particle-in-a-box, and consider the questions below."
      ]
    },
    {
      "cell_type": "code",
      "execution_count": null,
      "id": "9607c364",
      "metadata": {
        "cellView": "form",
        "id": "9607c364"
      },
      "outputs": [],
      "source": [
        "#@title 💻🧪\n",
        "import matplotlib as mpl\n",
        "import matplotlib.pylab as plt\n",
        "import numpy as np\n",
        "import ipywidgets as widgets\n",
        "from ipywidgets import interact\n",
        "import warnings\n",
        "warnings.filterwarnings('ignore')\n",
        "import sys\n",
        "%matplotlib inline\n",
        "\n",
        "L = 1.0\n",
        "h = 6.62607015e-34  # Planck's constant (Joule second)\n",
        "me = 9.10938356e-31  # Electron mass (kg)\n",
        "Na = 6.02214076e23  # Avogadro's number (mol^-1)\n",
        "\n",
        "def En(n, L, m):\n",
        "    # L in nm → convert to meters properly\n",
        "    return (h**2 * n**2) / (8 * me * (L * 1e-9)**2)\n",
        "\n",
        "def psi(x, n, L):\n",
        "    # Particle in a box wavefunction, normalized\n",
        "    return np.sqrt(2.0/L) * np.sin(n * np.pi * x / L)\n",
        "\n",
        "\n",
        "def plot_side_by_side(n=5):\n",
        "    X3 = np.linspace(0.0, L, 900, endpoint=True)\n",
        "    energy = En(n, L, 1.0)\n",
        "    amp = energy * 0.6\n",
        "    Etop = energy * 3  # leave space above wave\n",
        "\n",
        "    fig, (ax1, ax2) = plt.subplots(1, 2, figsize=(12, 8), sharey=True)\n",
        "\n",
        "    # Wavefunction plot\n",
        "    ax1.set_title('Wave function $\\psi(x)$', fontsize=24)\n",
        "    ax1.set_xlabel(r'$x$ (nm)')\n",
        "    ax1.axis([-0.5, 1.5, 0.0, Etop])\n",
        "    ax1.hlines(energy, 0, L, color='black', linestyle='--', linewidth=1.5)\n",
        "    ax1.plot(X3, energy + amp * psi(X3, n, L), color=\"red\", linewidth=2.0)\n",
        "\n",
        "    # Probability density plot\n",
        "    ax2.set_title('Probability $|\\psi^{2}(x)|$', fontsize=24)\n",
        "    ax2.set_xlabel(r'$x$ (nm)')\n",
        "    ax2.axis([-0.5, 1.5, 0.0, Etop])\n",
        "    ax2.hlines(energy, 0, L, color='black', linestyle='--', linewidth=1.5)\n",
        "    ax2.plot(X3, energy + amp * (psi(X3, n, L))**2, color=\"black\", linewidth=2.0)\n",
        "\n",
        "    # Shared formatting\n",
        "    for ax in [ax1, ax2]:\n",
        "        ax.vlines([0.0, L], 0.0, Etop, linewidth=1.5, color=\"blue\")\n",
        "        ax.hlines(0.0, 0.0, L, linewidth=1.5, color=\"blue\")\n",
        "        ax.axvspan(-1, 0, color='lightblue', alpha=0.5, zorder=0)\n",
        "        ax.axvspan(L, 5, color='lightblue', alpha=0.5, zorder=0)\n",
        "        ax.axes.get_yaxis().set_visible(False)\n",
        "\n",
        "    plt.tight_layout()\n",
        "    plt.show()\n",
        "\n",
        "\n",
        "interact(\n",
        "    plot_side_by_side,\n",
        "    n=widgets.IntSlider(value=2, min=1, max=10, step=1, description='Max n value')\n",
        ");"
      ]
    },
    {
      "cell_type": "markdown",
      "id": "b37bcf25",
      "metadata": {
        "id": "b37bcf25"
      },
      "source": [
        "A   \"node'' in a wavefunction is a point where its value vanishes, i.e. $\\psi(x) = 0$.\n",
        "\n",
        "Use the widget below to examine how the wave function $\\psi_n(x)$ and the probability density $|\\psi_n^2(x)|$ of a particle in a 1 nm box change with the value of the quantum number $n$.\n",
        "\n",
        "1. What is _mathematical_ relationship between the particle-in-box's quantum number $n$, and the number of nodes?\n",
        "1. What is the relationship between $n$ and the wavefunction's wavelength, $\\lambda$?\n",
        "1. What is the relationship between $n$ and the wavefunction's average curvature?\n",
        "1. Based on your answer to the previous questions, would you expect the particle's energy to increase, or decrease, with $n$?"
      ]
    },
    {
      "cell_type": "markdown",
      "id": "PP67yRcQqPuM",
      "metadata": {
        "id": "PP67yRcQqPuM"
      },
      "source": [
        "## Quantum vs Classical Behaviour"
      ]
    },
    {
      "cell_type": "markdown",
      "id": "0c283b40",
      "metadata": {
        "id": "0c283b40"
      },
      "source": [
        "The quantum mechanical behaviour of the particle-in-a-box is actually consistent with macroscopic \"classical\" behaviour. To see this, use the widget below to examine how the physically-measurable properties of the particle change with its mass $m$, and the size of the box $L$.\n",
        "\n",
        "\n",
        "\n",
        "\n",
        "\n"
      ]
    },
    {
      "cell_type": "code",
      "execution_count": null,
      "id": "ff530adc",
      "metadata": {
        "cellView": "form",
        "id": "ff530adc"
      },
      "outputs": [],
      "source": [
        "#@title 💻🧪\n",
        "\n",
        "h = 6.62607015e-34  # Planck's constant (Joule second)\n",
        "me = 9.10938356e-31  # Electron mass (kg)\n",
        "Na = 6.02214076e23  # Avogadro's number (mol^-1)\n",
        "\n",
        "def psi(x, n, L):\n",
        "    # Particle in a box wavefunction, normalized\n",
        "    return np.sqrt(2.0/L) * np.sin(n * np.pi * x / L)\n",
        "\n",
        "def En(n, L, m):\n",
        "    # L in nm, m in units of electron mass\n",
        "    return (h**2 * n**2) / (8 * m * me * (L * 1e-10)**2 )\n",
        "\n",
        "def plot_side_by_side(L=1.0, nmax=5, m=1.0):\n",
        "    X3 = np.linspace(0.0, L, 900, endpoint=True)\n",
        "    amp = (En(2, L, m) - En(1, L, m)) * 0.7\n",
        "    Etop = En(6, 1.0, 1.0) * 1.2  # Dynamically adjust plot height\n",
        "\n",
        "    fig, (ax1, ax2) = plt.subplots(1, 2, figsize=(12,8), sharey=True)\n",
        "\n",
        "    # --- Wavefunction plot (left) ---\n",
        "    ax1.spines['right'].set_color('none')\n",
        "    ax1.xaxis.tick_bottom()\n",
        "    ax1.spines['left'].set_color('none')\n",
        "    ax1.axes.get_yaxis().set_visible(False)\n",
        "    ax1.spines['top'].set_color('none')\n",
        "    ax1.axis([-1, 3, 0.0, Etop])\n",
        "    ax1.set_xlabel(r'$X$ (Angstroms)')\n",
        "    ax1.set_title('$\\psi(x)$\\n', fontsize=24)\n",
        "    ax1.set_ylim(0, Etop)\n",
        "\n",
        "    for n in range(1, nmax+1):\n",
        "        energy = En(n, L, m)\n",
        "        if energy < Etop:\n",
        "            ax1.hlines(energy, 0.0, L, linewidth=1.5, linestyle='--', color=\"black\")\n",
        "            ax1.plot(X3, energy + amp * np.sqrt(L / 2.0) * psi(X3, n, L), color=\"red\", linewidth=1.0)\n",
        "\n",
        "    ax1.margins(0.00)\n",
        "    ax1.vlines(0.0, 0.0, Etop, linewidth=1.5, color=\"blue\")\n",
        "    ax1.vlines(L, 0.0, Etop, linewidth=1.5, color=\"blue\")\n",
        "    ax1.hlines(0.0, 0.0, L, linewidth=1.5, color=\"blue\")\n",
        "\n",
        "    # --- Probability density plot (right) ---\n",
        "    ax2.spines['right'].set_color('none')\n",
        "    ax2.xaxis.tick_bottom()\n",
        "    ax2.spines['left'].set_color('none')\n",
        "    ax2.axes.get_yaxis().set_visible(False)\n",
        "    ax2.spines['top'].set_color('none')\n",
        "    ax2.axis([-1, 3, 0.0, Etop])\n",
        "    ax2.set_xlabel(r'$X$ (Angstroms)')\n",
        "    ax2.set_title('$|\\psi^{2}(x)|$\\n', fontsize=24)\n",
        "\n",
        "    for n in range(1, nmax+1):\n",
        "        energy = En(n, L, m)\n",
        "        if energy < Etop:\n",
        "            ax2.hlines(energy, 0.0, L, linewidth=1.5, linestyle='--', color=\"black\")\n",
        "            ax2.plot(X3, energy + amp * (np.sqrt(L / 2.0) * psi(X3, n, L))**2, color=\"black\", linewidth=1.0)\n",
        "            label = f\"$n = {n}$, $E_{{{n}}} = {energy * Na / 1000:.2f}\\ \\mathrm{{kJ/mol}}$, $\\lambda_{{{n}}} = {2 * L / n:.2f}\\ \\mathrm{{nm}}$\"\n",
        "            ax2.text(1.05 * L, energy, label, fontsize=12, color=\"black\")\n",
        "    ax2.margins(0.00)\n",
        "    ax2.vlines(0.0, 0.0, Etop, linewidth=1.5, color=\"blue\")\n",
        "    ax2.vlines(L, 0.0, Etop, linewidth=1.5, color=\"blue\")\n",
        "    ax2.hlines(0.0, 0.0, L, linewidth=1.5, color=\"blue\")\n",
        "    ax2.set_ylim(0, Etop)\n",
        "\n",
        "    # Shade regions outside [0, L] in blue\n",
        "    ax1.axvspan(-1, 0, color='lightblue', alpha=0.5, zorder=0)\n",
        "    ax1.axvspan(L, 5, color='lightblue', alpha=0.5, zorder=0)\n",
        "    ax2.axvspan(-1, 0, color='lightblue', alpha=0.5, zorder=0)\n",
        "    ax2.axvspan(L, 5, color='lightblue', alpha=0.5, zorder=0)\n",
        "\n",
        "    plt.tight_layout()\n",
        "    plt.show()\n",
        "\n",
        "interact(\n",
        "    plot_side_by_side,\n",
        "    L=widgets.FloatSlider(value=1.0, min=0.5, max=2.5, step=0.1, description='L (Å)'),\n",
        "    nmax=widgets.IntSlider(value=2, min=1, max=20, step=1, description='Max n value'),\n",
        "    m=widgets.FloatSlider(value=1.0, min=1.0, max=3.0, step=0.1, description='m (rel. mass)')\n",
        ");"
      ]
    },
    {
      "cell_type": "markdown",
      "id": "JPf3YSbRpnPm",
      "metadata": {
        "id": "JPf3YSbRpnPm"
      },
      "source": [
        "### Energy Quantisation\n",
        "\n",
        "Firstly, using the energy values printed above, calculate one of the quantised _transition energies_ of the particle, $\\Delta E$ - this is the energy difference between different energy levels, e.g. between $n = 1$ and $n = 2$ (pick any 2 states you like).\n",
        "1. How does the value of $\\Delta E$ change with the mass of the particle (use the slider bars)?\n",
        "1. How does the value of $\\Delta E$ change with the length of the box?\n",
        "1. Based on your answer to the previous questions, would you expect that the quantised energy levels of a macroscopic object, say, a tennis ball, could be measured experimentally?  "
      ]
    },
    {
      "cell_type": "markdown",
      "id": "r1ORaygkppo4",
      "metadata": {
        "id": "r1ORaygkppo4"
      },
      "source": [
        "### Motion Quantisation\n",
        "\n",
        "\n",
        "\n",
        "We can also show that the quantised _motion_ of the particle is consistent with macroscopic \"classical\" behaviour.\n",
        "\n",
        "1. For small values of $L$ and $m$, where in the box will the particle most likely be found in the ground $n = 1$ state?\n",
        "1. How does your answer to the previous question change for other low-lying states, e.g. $n = 2$ and $n = 3$?\n",
        "1. As $m$ and $L$ increases, do you think the position of the particle remains quantised?\n",
        "1. Based on your answer to the previous questions, would you expect that the quantised position of a macroscopic object, say, a tennis ball, be any different from the usual \"classical\" position?"
      ]
    },
    {
      "cell_type": "markdown",
      "id": "898370cf",
      "metadata": {
        "id": "898370cf"
      },
      "source": [
        "## Just-For-Kicks... Particles can be trapped in 2D boxes as well!\n",
        "\n",
        "Run the cell below to generate a 2D particle-in-a-box. We include this example here only to demonstrate that, despite its simplicity, the quantum description of a particle trapped in a 2D box (i.e. a mathematical plane) bears a **striking** resemblance to electron densities in real material. In fact, the resemblance is closer than you think - there is a _very_ close relationship between these particles. Find out more in CHEM3410!\n",
        "\n",
        "The physics and behaviour here are exactly the same as that shown above for the 1D particle. The only difference is that, now, the particle has **2 quantum numbers** that dictate its behaviour (let's call them here $n$, and $m$). Use the slider bars below to examine how the value of these quantum numbers change the behaviour of the particle in the $x$ and $y$ directions."
      ]
    },
    {
      "cell_type": "code",
      "execution_count": null,
      "id": "e856199e",
      "metadata": {
        "cellView": "form",
        "id": "e856199e"
      },
      "outputs": [],
      "source": [
        "#@title 💻🧪\n",
        "\n",
        "from google.colab import output\n",
        "output.enable_custom_widget_manager()\n",
        "import numpy as np\n",
        "import ipywidgets as widgets\n",
        "from ipywidgets import interact\n",
        "import plotly.graph_objects as go\n",
        "from plotly.subplots import make_subplots\n",
        "\n",
        "def psi2D(x, y, n, m):\n",
        "    return 2.0 * np.sin(n * np.pi * x) * np.sin(m * np.pi * y)\n",
        "\n",
        "def plot_psi2D_interactive(n=1, m=2):\n",
        "    x = np.linspace(0, 1, 100)\n",
        "    y = np.linspace(0, 1, 100)\n",
        "    X, Y = np.meshgrid(x, y)\n",
        "    Z = psi2D(X, Y, n, m)\n",
        "    Z_prob = Z**2\n",
        "\n",
        "    # Create subplot with 1 row and 2 columns\n",
        "    fig = make_subplots(\n",
        "        rows=1, cols=2,\n",
        "        specs=[[{'type': 'surface'}, {'type': 'surface'}]],\n",
        "        subplot_titles=[\n",
        "            f'Wavefunction $\\\\Psi_{{n={n},m={m}}}(x,y)$',\n",
        "            f'Probability Density $|\\\\Psi_{{n={n},m={m}}}(x,y)|^2$'\n",
        "        ]\n",
        "    )\n",
        "\n",
        "    # Wavefunction surface\n",
        "    fig.add_trace(go.Surface(\n",
        "        z=Z,\n",
        "        x=X,\n",
        "        y=Y,\n",
        "        colorscale='RdBu',\n",
        "        opacity=1.0,\n",
        "        showscale=False,\n",
        "        contours=dict(z=dict(show=True, usecolormap=True, highlight=True)),\n",
        "    ), row=1, col=1)\n",
        "\n",
        "    # Probability density surface\n",
        "    fig.add_trace(go.Surface(\n",
        "        z=Z_prob,\n",
        "        x=X,\n",
        "        y=Y,\n",
        "        colorscale='Viridis',\n",
        "        opacity=1.0,\n",
        "        showscale=False,\n",
        "        contours=dict(z=dict(show=True, usecolormap=True, highlight=True)),\n",
        "    ), row=1, col=2)\n",
        "\n",
        "    # Shared layout\n",
        "    fig.update_layout(\n",
        "        height=700,\n",
        "        width=1200,\n",
        "        margin=dict(l=10, r=10, b=10, t=50),\n",
        "        scene=dict(\n",
        "            xaxis_title=r'x',\n",
        "            yaxis_title=r'y',\n",
        "            zaxis_title=r'Wave function',\n",
        "            aspectratio=dict(x=1, y=1, z=0.5)\n",
        "        ),\n",
        "        scene2=dict(\n",
        "            xaxis_title=r'x',\n",
        "            yaxis_title=r'y',\n",
        "            zaxis_title=r'Probability',\n",
        "            aspectratio=dict(x=1, y=1, z=0.5)\n",
        "        ),\n",
        "        title_text=\"2D Particle in a Box: Wavefunction and Probability Density\"\n",
        "    )\n",
        "\n",
        "    fig.show()\n",
        "\n",
        "interact(\n",
        "    plot_psi2D_interactive,\n",
        "    n=widgets.IntSlider(value=1, min=1, max=5, step=1, description='n'),\n",
        "    m=widgets.IntSlider(value=2, min=1, max=5, step=1, description='m')\n",
        ");"
      ]
    }
  ],
  "metadata": {
    "colab": {
      "provenance": [],
      "include_colab_link": true
    },
    "kernelspec": {
      "display_name": "base",
      "language": "python",
      "name": "python3"
    },
    "language_info": {
      "codemirror_mode": {
        "name": "ipython",
        "version": 3
      },
      "file_extension": ".py",
      "mimetype": "text/x-python",
      "name": "python",
      "nbconvert_exporter": "python",
      "pygments_lexer": "ipython3",
      "version": "3.9.16"
    }
  },
  "nbformat": 4,
  "nbformat_minor": 5
}