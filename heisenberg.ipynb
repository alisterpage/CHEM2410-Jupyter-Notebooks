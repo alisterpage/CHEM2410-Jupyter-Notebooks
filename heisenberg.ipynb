{
 "cells": [
  {
   "cell_type": "code",
   "execution_count": 1,
   "id": "6c693bf9",
   "metadata": {},
   "outputs": [
    {
     "data": {
      "application/vnd.jupyter.widget-view+json": {
       "model_id": "d470d9ee9b854349bb3df56f98ee6322",
       "version_major": 2,
       "version_minor": 0
      },
      "text/plain": [
       "interactive(children=(IntSlider(value=10, description='Number of terms', max=50, min=1), Output()), _dom_class…"
      ]
     },
     "metadata": {},
     "output_type": "display_data"
    },
    {
     "data": {
      "text/plain": [
       "<function __main__.plot_sum_sines(n_terms=10)>"
      ]
     },
     "execution_count": 1,
     "metadata": {},
     "output_type": "execute_result"
    }
   ],
   "source": [
    "import numpy as np\n",
    "import matplotlib.pyplot as plt\n",
    "import ipywidgets as widgets\n",
    "from ipywidgets import interact\n",
    "\n",
    "def plot_sum_sines(n_terms=10):\n",
    "    x = np.linspace(5.0, 7.0, 1000)\n",
    "    lam = 1.0\n",
    "\n",
    "    # Store all individual cos(n * 2*pi/lam * x) arrays\n",
    "    individual_sin = []\n",
    "    for n in range(n_terms + 1):\n",
    "        individual_sin.append(np.cos(n * 2 * np.pi / lam * x))\n",
    "    sum_sin = np.sum(individual_sin, axis=0)\n",
    "    sum_squared = sum_sin ** 2\n",
    "    sum_squared_norm = sum_squared / np.max(sum_squared) if np.max(sum_squared) != 0 else sum_squared\n",
    "\n",
    "    fig, (ax0, ax1, ax2) = plt.subplots(1, 3, figsize=(18, 6), gridspec_kw={'width_ratios': [1, 1, 1]})\n",
    "\n",
    "    # Left panel: plot all individual cos(n * 2*pi/lam * x)\n",
    "    for n, y in enumerate(individual_sin):\n",
    "        ax0.plot(x, y, label=f\"n={n}\")\n",
    "    ax0.set_title(r\"Individual $\\cos\\left(\\frac{2\\pi n}{\\lambda} x\\right)$\")\n",
    "    ax0.set_xlabel(\"x\")\n",
    "    ax0.set_ylabel(\"Amplitude\")\n",
    "    ax0.set_xlim(5.8, 6.2)\n",
    "    ax0.grid(True)\n",
    "    if n_terms <= 10:\n",
    "        ax0.legend(fontsize=8)\n",
    "\n",
    "    # Middle panel: sum of cosines\n",
    "    ax1.plot(x, sum_sin, color='purple', label=\"Sum of cosines\")\n",
    "    ax1.set_title(r\"$\\sum_{n} \\cos\\left(\\frac{2\\pi n}{\\lambda} x\\right)$\")\n",
    "    ax1.set_xlabel(\"x\")\n",
    "    ax1.set_ylabel(\"Sum of cosines\")\n",
    "    ax1.set_xlim(5.8, 6.2)\n",
    "    ax1.grid(True)\n",
    "\n",
    "    # Right panel: normalised sum of squares\n",
    "    ax2.plot(x, sum_squared_norm, color='black')\n",
    "    ax2.set_title(r\"Normalised $\\left(\\sum_{n} \\cos\\left(\\frac{2\\pi n}{\\lambda} x\\right)\\right)^2$\")\n",
    "    ax2.set_xlabel(\"x\")\n",
    "    ax2.set_ylabel(\"Normalised sum of squares\")\n",
    "    ax2.set_xlim(5.8, 6.2)\n",
    "    ax2.grid(True)\n",
    "\n",
    "    plt.tight_layout()\n",
    "    plt.show()\n",
    "\n",
    "interact(\n",
    "    plot_sum_sines,\n",
    "    n_terms=widgets.IntSlider(value=10, min=1, max=50, step=1, description='Number of terms')\n",
    ")"
   ]
  },
  {
   "cell_type": "code",
   "execution_count": null,
   "id": "714c4f9e",
   "metadata": {},
   "outputs": [],
   "source": []
  }
 ],
 "metadata": {
  "kernelspec": {
   "display_name": "base",
   "language": "python",
   "name": "python3"
  },
  "language_info": {
   "codemirror_mode": {
    "name": "ipython",
    "version": 3
   },
   "file_extension": ".py",
   "mimetype": "text/x-python",
   "name": "python",
   "nbconvert_exporter": "python",
   "pygments_lexer": "ipython3",
   "version": "3.9.16"
  }
 },
 "nbformat": 4,
 "nbformat_minor": 5
}
